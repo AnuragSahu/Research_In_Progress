{
  "nbformat": 4,
  "nbformat_minor": 0,
  "metadata": {
    "colab": {
      "name": "myCIFAR10_Class_Notebook.ipynb",
      "version": "0.3.2",
      "provenance": [],
      "collapsed_sections": [],
      "include_colab_link": true
    },
    "kernelspec": {
      "name": "python3",
      "display_name": "Python 3"
    },
    "accelerator": "GPU"
  },
  "cells": [
    {
      "cell_type": "markdown",
      "metadata": {
        "id": "view-in-github",
        "colab_type": "text"
      },
      "source": [
        "<a href=\"https://colab.research.google.com/github/AnuragSahu/Research_In_Progress/blob/master/myCIFAR10_handsOnSession.ipynb\" target=\"_parent\"><img src=\"https://colab.research.google.com/assets/colab-badge.svg\" alt=\"Open In Colab\"/></a>"
      ]
    },
    {
      "cell_type": "code",
      "metadata": {
        "id": "LwBOsUxarGa7",
        "colab_type": "code",
        "colab": {}
      },
      "source": [
        "import torch\n",
        "import torch.nn as nn\n",
        "import torchvision.datasets as dsets\n",
        "import torchvision.transforms as transforms\n",
        "from torch.autograd import Variable\n",
        "import torchvision\n",
        "import torch.nn as nn\n",
        "import torch.nn.functional as F\n",
        "import torch.optim as optim\n",
        "import numpy as np"
      ],
      "execution_count": 0,
      "outputs": []
    },
    {
      "cell_type": "code",
      "metadata": {
        "id": "kDy7-UZgsaCi",
        "colab_type": "code",
        "outputId": "2fca3935-4ea4-43e0-a79b-5f0ef4dbd769",
        "colab": {
          "base_uri": "https://localhost:8080/",
          "height": 89
        }
      },
      "source": [
        "#Getting the dataset\n",
        "transform = transforms.Compose([transforms.ToTensor()])\n",
        "trainset = torchvision.datasets.CIFAR10(root='./data', train=True, download=True,transform=transform)\n",
        "trainloader = torch.utils.data.DataLoader(trainset, batch_size=64, shuffle=True, num_workers=2)\n",
        "\n",
        "testset = torchvision.datasets.CIFAR10(root='./data', train=False, download=True,transform=transform)\n",
        "testloader = torch.utils.data.DataLoader(testset, batch_size=64, shuffle=False, num_workers=2)\n",
        "\n",
        "classes = ('plane', 'car', 'bird', 'cat','deer', 'dog', 'frog', 'horse', 'ship', 'truck')\n",
        "#LABELS 0,1,2,3,4,5,6,7,8,9\n"
      ],
      "execution_count": 0,
      "outputs": [
        {
          "output_type": "stream",
          "text": [
            "  0%|          | 0/170498071 [00:00<?, ?it/s]"
          ],
          "name": "stderr"
        },
        {
          "output_type": "stream",
          "text": [
            "Downloading https://www.cs.toronto.edu/~kriz/cifar-10-python.tar.gz to ./data/cifar-10-python.tar.gz\n"
          ],
          "name": "stdout"
        },
        {
          "output_type": "stream",
          "text": [
            "170500096it [00:08, 19878928.20it/s]                               \n"
          ],
          "name": "stderr"
        },
        {
          "output_type": "stream",
          "text": [
            "Files already downloaded and verified\n"
          ],
          "name": "stdout"
        }
      ]
    },
    {
      "cell_type": "code",
      "metadata": {
        "id": "w-ARSzvvtbHF",
        "colab_type": "code",
        "outputId": "aae0bf04-27a4-422e-95a3-84e678df1ded",
        "colab": {
          "base_uri": "https://localhost:8080/",
          "height": 86
        }
      },
      "source": [
        "print(type(trainset))\n",
        "print(type(trainloader))\n",
        "print(type(testset))\n",
        "print(type(testloader))\n",
        "#converting into an iterable object\n",
        "trainiter = iter(trainloader)\n",
        "#print(\"Number of train samples\",len(list(trainiter)))\n",
        "testiter = iter(testloader)\n",
        "#print(\"Number of test samples\",len(list(testiter)))\n",
        "#images, labels = trainiter.next()\n"
      ],
      "execution_count": 0,
      "outputs": [
        {
          "output_type": "stream",
          "text": [
            "<class 'torchvision.datasets.cifar.CIFAR10'>\n",
            "<class 'torch.utils.data.dataloader.DataLoader'>\n",
            "<class 'torchvision.datasets.cifar.CIFAR10'>\n",
            "<class 'torch.utils.data.dataloader.DataLoader'>\n"
          ],
          "name": "stdout"
        }
      ]
    },
    {
      "cell_type": "code",
      "metadata": {
        "id": "ekCrfHgZtwzi",
        "colab_type": "code",
        "outputId": "47b121aa-7c6c-425a-e144-7fea3434097a",
        "colab": {
          "base_uri": "https://localhost:8080/",
          "height": 321
        }
      },
      "source": [
        "#Analyzing one sample and display one particular image\n",
        "image, label = trainiter.next()\n",
        "print(type(image))\n",
        "print(image.size())\n",
        "\n",
        "img = image[0,:].numpy();\n",
        "img=np.transpose(img,(1,2,0))\n",
        "\n",
        "import matplotlib.pyplot as plt\n",
        "plt.imshow(img)"
      ],
      "execution_count": 0,
      "outputs": [
        {
          "output_type": "stream",
          "text": [
            "<class 'torch.Tensor'>\n",
            "torch.Size([64, 3, 32, 32])\n"
          ],
          "name": "stdout"
        },
        {
          "output_type": "execute_result",
          "data": {
            "text/plain": [
              "<matplotlib.image.AxesImage at 0x7f6f3d1e6080>"
            ]
          },
          "metadata": {
            "tags": []
          },
          "execution_count": 5
        },
        {
          "output_type": "display_data",
          "data": {
            "image/png": "[encoded data removed]",
            "text/plain": [
              "<Figure size 432x288 with 1 Axes>"
            ]
          },
          "metadata": {
            "tags": []
          }
        }
      ]
    },
    {
      "cell_type": "code",
      "metadata": {
        "id": "uD5vFHZjuxfm",
        "colab_type": "code",
        "colab": {}
      },
      "source": [
        "class Net(nn.Module):\n",
        "    def __init__(self):\n",
        "        super(Net, self).__init__()\n",
        "        self.conv1 = nn.Conv2d(3, 6, 5)\n",
        "        self.pool = nn.MaxPool2d(2,2)\n",
        "        self.conv2 = nn.Conv2d(6,16,5)\n",
        "        self.fc1 = nn.Linear(16*5*5,120)\n",
        "        self.fc2 = nn.Linear(120,84)\n",
        "        self.fc3 = nn.Linear(84,10)\n",
        "\n",
        "    def forward(self, x):\n",
        "        x = self.pool(F.relu(self.conv1(x)))\n",
        "        x = self.pool(F.relu(self.conv2(x)))\n",
        "        x = x.view(-1,16*5*5)\n",
        "        x = F.relu(self.fc1(x))\n",
        "        x = F.relu(self.fc2(x))\n",
        "        x = (self.fc3(x))\n",
        "        return x\n"
      ],
      "execution_count": 0,
      "outputs": []
    },
    {
      "cell_type": "code",
      "metadata": {
        "id": "ksTbOIQW2w1I",
        "colab_type": "code",
        "outputId": "a0553a2d-0b07-4698-cd23-6e2d1a57620c",
        "colab": {
          "base_uri": "https://localhost:8080/",
          "height": 434
        }
      },
      "source": [
        "#MAIN CELL\n",
        "\n",
        "net=Net() \n",
        "\n",
        "criterion = nn.CrossEntropyLoss()\n",
        "lr=1e-4\n",
        "momentum=0.09\n",
        "nepochs=1000\n",
        "#optimizer = optim.SGD(net.parameters(), lr, momentum)\n",
        "optimizer=optim.Adam(net.parameters(), lr)\n",
        "\n",
        "def correct(groundTruth,output):\n",
        "  assert groundTruth.size(0) == output.size(0)\n",
        "  _, indices = torch.max(outputs, 1)\n",
        "  ch=torch.eq(groundTruth,indices)\n",
        "  return torch.sum(ch).item()\n",
        "\n",
        "trainAcc=[];testAcc=[];\n",
        "trainLoss=[];testLoss=[];\n",
        "\n",
        "totalTrainSamples=len(trainloader.dataset)\n",
        "print(\"Total training samples :\", totalTrainSamples)\n",
        "totalTestSamples=len(testloader.dataset);\n",
        "print(\"Total testing samples :\", totalTestSamples)\n",
        "\n",
        "\n",
        "for epoch in range(nepochs):\n",
        "  \n",
        "    #TRAINING\n",
        "    running_loss_train = 0.0\n",
        "    numCorr_train=0;\n",
        "    net.train()\n",
        "    inputs_=None;labels_=None;\n",
        "    \n",
        "    for i, data in enumerate(trainloader, 0):\n",
        "       \n",
        "        # get the inputs\n",
        "        inputs, labels = data\n",
        "\n",
        "        # zero the parameter gradients\n",
        "        optimizer.zero_grad()\n",
        "\n",
        "        # forward + backward + optimize\n",
        "        outputs = net(inputs)\n",
        "        #print(outputs.size())\n",
        "        numCorr_train+=correct(labels,outputs)\n",
        "        \n",
        "    \n",
        "        loss = criterion(outputs, labels)\n",
        "        loss.backward()\n",
        "        optimizer.step()\n",
        "\n",
        "        # print statistics\n",
        "        running_loss_train += loss.item()\n",
        "        #break\n",
        "    if epoch % 2 == 0:\n",
        "      print(\"Epoch\", epoch, \"Train loss\",running_loss_train/totalTrainSamples)\n",
        "      print(\"Train Accuracy: \", round((numCorr_train/totalTrainSamples)*100,2),\"%\" )\n",
        "            \n",
        "    \n",
        "    trainAcc.append((numCorr_train/totalTrainSamples)*100)\n",
        "    trainLoss.append(running_loss_train/totalTrainSamples)\n",
        "    \n",
        "    #TESTING\n",
        "    running_loss_train = 0.0\n",
        "    numCorr_train=0;\n",
        "    #net.train()\n",
        "    inputs_=None;labels_=None;\n",
        "    \n",
        "    for i, data in enumerate(testloader, 0):\n",
        "       \n",
        "        # get the inputs\n",
        "        inputs, labels = data\n",
        "\n",
        "        # zero the parameter gradients\n",
        "        #optimizer.zero_grad()\n",
        "\n",
        "        # forward + backward + optimize\n",
        "        outputs = net(inputs)\n",
        "        #print(outputs.size())\n",
        "        numCorr_train+=correct(labels,outputs)\n",
        "        \n",
        "    \n",
        "        loss = criterion(outputs, labels)\n",
        "        #loss.backward()\n",
        "        #optimizer.step()\n",
        "\n",
        "        # print statistics\n",
        "        running_loss_train += loss.item()\n",
        "        #break\n",
        "    if epoch % 2 == 0:\n",
        "      print(\"Epoch\", epoch, \"Train loss\",running_loss_train/totalTrainSamples)\n",
        "      print(\"Train Accuracy: \", round((numCorr_train/totalTrainSamples)*100,2),\"%\" )\n",
        "            \n",
        "    \n",
        "    testAcc.append((numCorr_train/totalTestSamples)*100)\n",
        "    testLoss.append(running_loss_train/totalTestSamples)"
      ],
      "execution_count": 0,
      "outputs": [
        {
          "output_type": "stream",
          "text": [
            "Total training samples : 50000\n",
            "Total testing samples : 10000\n",
            "Epoch 0 Train loss 0.032675241441726684\n",
            "Train Accuracy:  23.81 %\n",
            "Epoch 0 Train loss 0.006048982729911804\n",
            "Train Accuracy:  6.18 %\n",
            "Epoch 2 Train loss 0.02727807370185852\n",
            "Train Accuracy:  36.9 %\n",
            "Epoch 2 Train loss 0.005238044853210449\n",
            "Train Accuracy:  8.04 %\n",
            "Epoch 4 Train loss 0.024874642510414123\n",
            "Train Accuracy:  42.47 %\n",
            "Epoch 4 Train loss 0.004913211801052093\n",
            "Train Accuracy:  8.61 %\n",
            "Epoch 6 Train loss 0.023910368580818176\n",
            "Train Accuracy:  44.81 %\n",
            "Epoch 6 Train loss 0.004715827314853668\n",
            "Train Accuracy:  9.0 %\n",
            "Epoch 8 Train loss 0.023178662045001984\n",
            "Train Accuracy:  46.44 %\n",
            "Epoch 8 Train loss 0.004624347882270813\n",
            "Train Accuracy:  9.33 %\n",
            "Epoch 10 Train loss 0.022685277054309845\n",
            "Train Accuracy:  47.83 %\n"
          ],
          "name": "stdout"
        }
      ]
    },
    {
      "cell_type": "code",
      "metadata": {
        "id": "ApGD4JRw5Mc6",
        "colab_type": "code",
        "outputId": "79c466b6-753d-44b7-bb54-4eb6b72745f3",
        "colab": {
          "base_uri": "https://localhost:8080/",
          "height": 868
        }
      },
      "source": [
        "  \n",
        "    #Plots\n",
        "\n",
        "import matplotlib.pyplot as plt\n",
        "\n",
        "fig1, ax1=  plt.subplots()\n",
        "plt.grid()\n",
        "ax1.plot(trainAcc,marker='o', markerfacecolor='red', markersize=5, color='orange', linewidth=4)\n",
        "ax1.plot(testAcc,marker='o', markerfacecolor='red', markersize=5, color='blue', linewidth=4)\n",
        "plt.gca().legend(('Train','Test'))\n",
        "ax1.set_title(\"Train V/S Test Accuracy\")\n",
        "ax1.set_xlabel(\"#Epochs\")\n",
        "\n",
        "\n",
        "\n",
        "\n",
        "fig2, ax2=  plt.subplots()\n",
        "plt.grid()\n",
        "ax2.plot(trainLoss,marker='o', markerfacecolor='red', markersize=5, color='orange', linewidth=4,label=\"Train Loss\")\n",
        "ax2.plot(testLoss,marker='o', markerfacecolor='red', markersize=5, color='blue', linewidth=4,label=\"Test Loss\")\n",
        "plt.gca().legend(('Train','Test'))\n",
        "ax2.set_title(\"Train V/S Test Loss\")\n",
        "ax2.set_xlabel(\"#Epochs\")\n",
        "\n",
        "fig3, ax3=  plt.subplots()\n",
        "plt.grid()\n",
        "ax3.plot(trainLoss,marker='o', markerfacecolor='green', markersize=5, color='yellow', linewidth=4,label=\"Train Loss\")\n",
        "ax3.set_title(\"Train Loss\")\n",
        "ax3.set_xlabel(\"#Epochs\")\n"
      ],
      "execution_count": 0,
      "outputs": [
        {
          "output_type": "execute_result",
          "data": {
            "text/plain": [
              "Text(0.5, 0, '#Epochs')"
            ]
          },
          "metadata": {
            "tags": []
          },
          "execution_count": 18
        },
        {
          "output_type": "display_data",
          "data": {
            "image/png": "[encoded data removed]",
            "text/plain": [
              "<Figure size 432x288 with 1 Axes>"
            ]
          },
          "metadata": {
            "tags": []
          }
        },
        {
          "output_type": "display_data",
          "data": {
            "image/png": "[encoded data removed]",
            "text/plain": [
              "<Figure size 432x288 with 1 Axes>"
            ]
          },
          "metadata": {
            "tags": []
          }
        },
        {
          "output_type": "display_data",
          "data": {
            "image/png": "[encoded data removed]",
            "text/plain": [
              "<Figure size 432x288 with 1 Axes>"
            ]
          },
          "metadata": {
            "tags": []
          }
        }
      ]
    },
    {
      "cell_type": "code",
      "metadata": {
        "id": "vtMulkkm9YPY",
        "colab_type": "code",
        "colab": {}
      },
      "source": [
        "# upload external file before import\n",
        "from google.colab import files\n",
        "\n",
        "torch.save(net.state_dict(), 'checkpoint.pth')\n",
        "\n",
        "# download checkpoint file\n",
        "files.download('checkpoint.pth')"
      ],
      "execution_count": 0,
      "outputs": []
    },
    {
      "cell_type": "code",
      "metadata": {
        "id": "3BzcaL1q9d9e",
        "colab_type": "code",
        "colab": {}
      },
      "source": [
        ""
      ],
      "execution_count": 0,
      "outputs": []
    }
  ]
}