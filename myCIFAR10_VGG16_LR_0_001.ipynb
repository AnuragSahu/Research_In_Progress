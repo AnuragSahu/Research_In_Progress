{
  "nbformat": 4,
  "nbformat_minor": 0,
  "metadata": {
    "colab": {
      "name": "Copy of myCIFAR10_Class_VGG16_LR_0.001.ipynb",
      "version": "0.3.2",
      "provenance": [],
      "collapsed_sections": [],
      "include_colab_link": true
    },
    "kernelspec": {
      "name": "python3",
      "display_name": "Python 3"
    },
    "accelerator": "GPU"
  },
  "cells": [
    {
      "cell_type": "markdown",
      "metadata": {
        "id": "view-in-github",
        "colab_type": "text"
      },
      "source": [
        "<a href=\"https://colab.research.google.com/github/AnuragSahu/Research_In_Progress/blob/master/myCIFAR10_VGG16_LR_0_001.ipynb\" target=\"_parent\"><img src=\"https://colab.research.google.com/assets/colab-badge.svg\" alt=\"Open In Colab\"/></a>"
      ]
    },
    {
      "cell_type": "code",
      "metadata": {
        "id": "LwBOsUxarGa7",
        "colab_type": "code",
        "colab": {}
      },
      "source": [
        "import torch\n",
        "import torch.nn as nn\n",
        "import torchvision.datasets as dsets\n",
        "import torchvision.transforms as transforms\n",
        "from torch.autograd import Variable\n",
        "import torchvision\n",
        "import torch.nn as nn\n",
        "import torch.nn.functional as F\n",
        "import torch.optim as optim\n",
        "import numpy as np"
      ],
      "execution_count": 0,
      "outputs": []
    },
    {
      "cell_type": "code",
      "metadata": {
        "id": "kDy7-UZgsaCi",
        "colab_type": "code",
        "outputId": "16002eac-cf05-444b-85b9-016206cde1ba",
        "colab": {
          "base_uri": "https://localhost:8080/",
          "height": 52
        }
      },
      "source": [
        "#Getting the dataset\n",
        "transform = transforms.Compose([transforms.ToTensor()])\n",
        "trainset = torchvision.datasets.CIFAR10(root='./data', train=True, download=True,transform=transform)\n",
        "trainloader = torch.utils.data.DataLoader(trainset, batch_size=64, shuffle=True, num_workers=2)\n",
        "\n",
        "testset = torchvision.datasets.CIFAR10(root='./data', train=False, download=True,transform=transform)\n",
        "testloader = torch.utils.data.DataLoader(testset, batch_size=64, shuffle=False, num_workers=2)\n",
        "\n",
        "classes = ('plane', 'car', 'bird', 'cat','deer', 'dog', 'frog', 'horse', 'ship', 'truck')\n",
        "#LABELS 0,1,2,3,4,5,6,7,8,9\n"
      ],
      "execution_count": 2,
      "outputs": [
        {
          "output_type": "stream",
          "text": [
            "\r0it [00:00, ?it/s]"
          ],
          "name": "stderr"
        },
        {
          "output_type": "stream",
          "text": [
            "Downloading https://www.cs.toronto.edu/~kriz/cifar-10-python.tar.gz to ./data/cifar-10-python.tar.gz\n"
          ],
          "name": "stdout"
        },
        {
          "output_type": "stream",
          "text": [
            "100%|█████████▉| 170303488/170498071 [00:36<00:00, 3304431.25it/s]"
          ],
          "name": "stderr"
        },
        {
          "output_type": "stream",
          "text": [
            "Files already downloaded and verified\n"
          ],
          "name": "stdout"
        }
      ]
    },
    {
      "cell_type": "code",
      "metadata": {
        "id": "w-ARSzvvtbHF",
        "colab_type": "code",
        "outputId": "0b20e1a5-d268-4d77-a5b2-a93909a3bfe0",
        "colab": {
          "base_uri": "https://localhost:8080/",
          "height": 86
        }
      },
      "source": [
        "print(type(trainset))\n",
        "print(type(trainloader))\n",
        "print(type(testset))\n",
        "print(type(testloader))\n",
        "#converting into an iterable object\n",
        "trainiter = iter(trainloader)\n",
        "#print(\"Number of train samples\",len(list(trainiter)))\n",
        "testiter = iter(testloader)\n",
        "#print(\"Number of test samples\",len(list(testiter)))\n",
        "#images, labels = trainiter.next()\n"
      ],
      "execution_count": 3,
      "outputs": [
        {
          "output_type": "stream",
          "text": [
            "<class 'torchvision.datasets.cifar.CIFAR10'>\n",
            "<class 'torch.utils.data.dataloader.DataLoader'>\n",
            "<class 'torchvision.datasets.cifar.CIFAR10'>\n",
            "<class 'torch.utils.data.dataloader.DataLoader'>\n"
          ],
          "name": "stdout"
        }
      ]
    },
    {
      "cell_type": "code",
      "metadata": {
        "id": "ekCrfHgZtwzi",
        "colab_type": "code",
        "outputId": "08ebadf8-cd85-4e4c-dbe4-1bda53a9cb07",
        "colab": {
          "base_uri": "https://localhost:8080/",
          "height": 321
        }
      },
      "source": [
        "#Analyzing one sample and display one particular image\n",
        "image, label = trainiter.next()\n",
        "print(type(image))\n",
        "print(image.size())\n",
        "\n",
        "img = image[0,:].numpy();\n",
        "img=np.transpose(img,(1,2,0))\n",
        "\n",
        "import matplotlib.pyplot as plt\n",
        "plt.imshow(img)"
      ],
      "execution_count": 4,
      "outputs": [
        {
          "output_type": "stream",
          "text": [
            "<class 'torch.Tensor'>\n",
            "torch.Size([64, 3, 32, 32])\n"
          ],
          "name": "stdout"
        },
        {
          "output_type": "execute_result",
          "data": {
            "text/plain": [
              "<matplotlib.image.AxesImage at 0x7fbae1af52b0>"
            ]
          },
          "metadata": {
            "tags": []
          },
          "execution_count": 4
        },
        {
          "output_type": "display_data",
          "data": {
            "image/png": "[encoded data removed]",
            "text/plain": [
              "<Figure size 432x288 with 1 Axes>"
            ]
          },
          "metadata": {
            "tags": []
          }
        }
      ]
    },
    {
      "cell_type": "code",
      "metadata": {
        "id": "uD5vFHZjuxfm",
        "colab_type": "code",
        "colab": {}
      },
      "source": [
        "NUM_CLASSES = 10\n",
        "\n",
        "\n",
        "cfg = {\n",
        "    'VGG11': [64, 'M', 128, 'M', 256, 256, 'M', 512, 512, 'M', 512, 512, 'M'],\n",
        "    'VGG13': [64, 64, 'M', 128, 128, 'M', 256, 256, 'M', 512, 512, 'M', 512, 512, 'M'],\n",
        "    'VGG16': [64, 64, 'M', 128, 128, 'M', 256, 256, 256, 'M', 512, 512, 512, 'M', 512, 512, 512, 'M'],\n",
        "    'VGG19': [64, 64, 'M', 128, 128, 'M', 256, 256, 256, 256, 'M', 512, 512, 512, 512, 'M', 512, 512, 512, 512, 'M'],\n",
        "}\n",
        "\n",
        "class VGG(nn.Module):\n",
        "    def __init__(self):\n",
        "        super(VGG, self).__init__()\n",
        "        self.features = self._make_layers(cfg['VGG16'])\n",
        "        self.classifier = nn.Linear(512, 10)\n",
        "\n",
        "    def forward(self, x):\n",
        "        out = self.features(x)\n",
        "        out = out.view(out.size(0), -1)\n",
        "        out = self.classifier(out)\n",
        "        return out\n",
        "\n",
        "    def _make_layers(self, cfg):\n",
        "        layers = []\n",
        "        in_channels = 3\n",
        "        for x in cfg:\n",
        "            if x == 'M':\n",
        "                layers += [nn.MaxPool2d(kernel_size=2, stride=2)]\n",
        "            else:\n",
        "                layers += [nn.Conv2d(in_channels, x, kernel_size=3, padding=1),\n",
        "                           nn.BatchNorm2d(x),\n",
        "                           nn.ReLU(inplace=True)]\n",
        "                in_channels = x\n",
        "        layers += [nn.AvgPool2d(kernel_size=1, stride=1)]\n",
        "        return nn.Sequential(*layers)\n",
        "\n",
        "\n",
        "class AlexNet(nn.Module):\n",
        "    def __init__(self, num_classes=NUM_CLASSES):\n",
        "        super(AlexNet, self).__init__()\n",
        "        self.features = nn.Sequential(\n",
        "            nn.Conv2d(3, 64, kernel_size=3, stride=2, padding=1),\n",
        "            nn.ReLU(inplace=True),\n",
        "            nn.MaxPool2d(kernel_size=2),\n",
        "            nn.Conv2d(64, 192, kernel_size=3, padding=1),\n",
        "            nn.ReLU(inplace=True),\n",
        "            nn.MaxPool2d(kernel_size=2),\n",
        "            nn.Conv2d(192, 384, kernel_size=3, padding=1),\n",
        "            nn.ReLU(inplace=True),\n",
        "            nn.Conv2d(384, 256, kernel_size=3, padding=1),\n",
        "            nn.ReLU(inplace=True),\n",
        "            nn.Conv2d(256, 256, kernel_size=3, padding=1),\n",
        "            nn.ReLU(inplace=True),\n",
        "            nn.MaxPool2d(kernel_size=2),\n",
        "        )\n",
        "        self.classifier = nn.Sequential(\n",
        "            nn.Dropout(),\n",
        "            nn.Linear(256 * 2 * 2, 4096),\n",
        "            nn.ReLU(inplace=True),\n",
        "            nn.Dropout(),\n",
        "            nn.Linear(4096, 4096),\n",
        "            nn.ReLU(inplace=True),\n",
        "            nn.Linear(4096, num_classes),\n",
        "        )\n",
        "\n",
        "    def forward(self, x):\n",
        "        x = self.features(x)\n",
        "        x = x.view(x.size(0), 256 * 2 * 2)\n",
        "        x = self.classifier(x)\n",
        "        return x"
      ],
      "execution_count": 0,
      "outputs": []
    },
    {
      "cell_type": "code",
      "metadata": {
        "id": "ksTbOIQW2w1I",
        "colab_type": "code",
        "outputId": "f60fe25a-b477-462a-8dfc-ae5f6d9a5a9e",
        "colab": {
          "base_uri": "https://localhost:8080/",
          "height": 399
        }
      },
      "source": [
        "#MAIN CELL\n",
        "\n",
        "#net= AlexNet() \n",
        "net = VGG()\n",
        "\n",
        "criterion = nn.CrossEntropyLoss()\n",
        "lr=1e-3\n",
        "momentum=0.09\n",
        "nepochs = 20\n",
        "#optimizer = optim.SGD(net.parameters(), lr, momentum)\n",
        "optimizer=optim.Adam(net.parameters(), lr)\n",
        "\n",
        "def correct(groundTruth,output):\n",
        "  assert groundTruth.size(0) == output.size(0)\n",
        "  _, indices = torch.max(outputs, 1)\n",
        "  ch=torch.eq(groundTruth,indices)\n",
        "  return torch.sum(ch).item()\n",
        "\n",
        "trainAcc=[];testAcc=[];\n",
        "trainLoss=[];testLoss=[];\n",
        "\n",
        "totalTrainSamples=len(trainloader.dataset)\n",
        "print(\"Total training samples :\", totalTrainSamples)\n",
        "totalTestSamples=len(testloader.dataset);\n",
        "print(\"Total testing samples :\", totalTestSamples)\n",
        "\n",
        "\n",
        "for epoch in range(nepochs):\n",
        "  \n",
        "    #TRAINING\n",
        "    running_loss_train = 0.0\n",
        "    numCorr_train=0;\n",
        "    net.train()\n",
        "    inputs_=None;labels_=None;\n",
        "    \n",
        "    for i, data in enumerate(trainloader, 0):\n",
        "       \n",
        "        # get the inputs\n",
        "        inputs, labels = data\n",
        "\n",
        "        # zero the parameter gradients\n",
        "        optimizer.zero_grad()\n",
        "\n",
        "        # forward + backward + optimize\n",
        "        outputs = net(inputs)\n",
        "        #print(outputs.size())\n",
        "        numCorr_train+=correct(labels,outputs)\n",
        "        \n",
        "    \n",
        "        loss = criterion(outputs, labels)\n",
        "        loss.backward()\n",
        "        optimizer.step()\n",
        "\n",
        "        # print statistics\n",
        "        running_loss_train += loss.item()\n",
        "        #break\n",
        "    if epoch % 2 == 0:\n",
        "      print(\"Epoch\", epoch, \"Train loss\",running_loss_train/totalTrainSamples)\n",
        "      print(\"Train Accuracy: \", round((numCorr_train/totalTrainSamples)*100,2),\"%\" )\n",
        "            \n",
        "    \n",
        "    trainAcc.append((numCorr_train/totalTrainSamples)*100)\n",
        "    trainLoss.append(running_loss_train/totalTrainSamples)\n",
        "    \n",
        "    #TESTING\n",
        "    running_loss_test = 0.0\n",
        "    numCorr_test=0;\n",
        "    #net.train()\n",
        "    inputs_=None;labels_=None;\n",
        "    \n",
        "    for i, data in enumerate(testloader, 0):\n",
        "       \n",
        "        # get the inputs\n",
        "        inputs, labels = data\n",
        "\n",
        "        # zero the parameter gradients\n",
        "        #optimizer.zero_grad()\n",
        "\n",
        "        # forward + backward + optimize\n",
        "        outputs = net(inputs)\n",
        "        #print(outputs.size())\n",
        "        numCorr_test+=correct(labels,outputs)\n",
        "        \n",
        "    \n",
        "        loss = criterion(outputs, labels)\n",
        "        #loss.backward()\n",
        "        #optimizer.step()\n",
        "\n",
        "        # print statistics\n",
        "        running_loss_test += loss.item()\n",
        "        #break\n",
        "    if epoch % 2 == 0:\n",
        "      print(\"Epoch\", epoch, \"Train loss\",running_loss_test/totalTestSamples)\n",
        "      print(\"Test Accuracy: \", round((numCorr_test/totalTestSamples)*100,2),\"%\" )\n",
        "            \n",
        "    \n",
        "    testAcc.append((numCorr_test/totalTestSamples)*100)\n",
        "    testLoss.append(running_loss_test/totalTestSamples)"
      ],
      "execution_count": 0,
      "outputs": [
        {
          "output_type": "stream",
          "text": [
            "Total training samples : 50000\n",
            "Total testing samples : 10000\n",
            "Epoch 0 Train loss 0.02349608976840973\n",
            "Train Accuracy:  42.59 %\n",
            "Epoch 0 Train loss 0.017541797316074373\n",
            "Test Accuracy:  59.66 %\n",
            "Epoch 2 Train loss 0.010964235129356384\n",
            "Train Accuracy:  75.93 %\n",
            "Epoch 2 Train loss 0.010653101190924644\n",
            "Test Accuracy:  77.16 %\n",
            "Epoch 4 Train loss 0.007337089042365551\n",
            "Train Accuracy:  84.3 %\n",
            "Epoch 4 Train loss 0.008718267750740052\n",
            "Test Accuracy:  81.47 %\n",
            "Epoch 6 Train loss 0.00501601374104619\n",
            "Train Accuracy:  89.19 %\n",
            "Epoch 6 Train loss 0.00877555675059557\n",
            "Test Accuracy:  82.58 %\n",
            "Epoch 8 Train loss 0.003408561589196324\n",
            "Train Accuracy:  92.62 %\n",
            "Epoch 8 Train loss 0.007889535009115935\n",
            "Test Accuracy:  84.92 %\n"
          ],
          "name": "stdout"
        }
      ]
    },
    {
      "cell_type": "code",
      "metadata": {
        "id": "ApGD4JRw5Mc6",
        "colab_type": "code",
        "colab": {}
      },
      "source": [
        "  \n",
        "    #Plots\n",
        "\n",
        "import matplotlib.pyplot as plt\n",
        "\n",
        "fig1, ax1=  plt.subplots()\n",
        "plt.grid()\n",
        "ax1.plot(trainAcc,marker='o', markerfacecolor='red', markersize=5, color='orange', linewidth=4)\n",
        "ax1.plot(testAcc,marker='o', markerfacecolor='red', markersize=5, color='blue', linewidth=4)\n",
        "plt.gca().legend(('Train','Test'))\n",
        "ax1.set_title(\"Train V/S Test Accuracy\")\n",
        "ax1.set_xlabel(\"#Epochs\")\n",
        "\n",
        "\n",
        "\n",
        "\n",
        "fig2, ax2=  plt.subplots()\n",
        "plt.grid()\n",
        "ax2.plot(trainLoss,marker='o', markerfacecolor='red', markersize=5, color='orange', linewidth=4,label=\"Train Loss\")\n",
        "ax2.plot(testLoss,marker='o', markerfacecolor='red', markersize=5, color='blue', linewidth=4,label=\"Test Loss\")\n",
        "plt.gca().legend(('Train','Test'))\n",
        "ax2.set_title(\"Train V/S Test Loss\")\n",
        "ax2.set_xlabel(\"#Epochs\")\n",
        "\n",
        "fig3, ax3=  plt.subplots()\n",
        "plt.grid()\n",
        "ax3.plot(trainLoss,marker='o', markerfacecolor='green', markersize=5, color='yellow', linewidth=4,label=\"Train Loss\")\n",
        "ax3.set_title(\"Train Loss\")\n",
        "ax3.set_xlabel(\"#Epochs\")\n"
      ],
      "execution_count": 0,
      "outputs": []
    },
    {
      "cell_type": "code",
      "metadata": {
        "id": "vtMulkkm9YPY",
        "colab_type": "code",
        "outputId": "3daf9121-e065-4a78-c810-b9c80c3b9a5e",
        "colab": {
          "resources": {
            "http://localhost:19319/content/checkpoint.pth": {
              "data": "CjwhRE9DVFlQRSBodG1sPgo8aHRtbCBsYW5nPWVuPgogIDxtZXRhIGNoYXJzZXQ9dXRmLTg+CiAgPG1ldGEgbmFtZT12aWV3cG9ydCBjb250ZW50PSJpbml0aWFsLXNjYWxlPTEsIG1pbmltdW0tc2NhbGU9MSwgd2lkdGg9ZGV2aWNlLXdpZHRoIj4KICA8dGl0bGU+RXJyb3IgNTAwIChJbnRlcm5hbCBTZXJ2ZXIgRXJyb3IpISExPC90aXRsZT4KICA8c3R5bGU+CiAgICAqe21hcmdpbjowO3BhZGRpbmc6MH1odG1sLGNvZGV7Zm9udDoxNXB4LzIycHggYXJpYWwsc2Fucy1zZXJpZn1odG1se2JhY2tncm91bmQ6I2ZmZjtjb2xvcjojMjIyO3BhZGRpbmc6MTVweH1ib2R5e21hcmdpbjo3JSBhdXRvIDA7bWF4LXdpZHRoOjM5MHB4O21pbi1oZWlnaHQ6MTgwcHg7cGFkZGluZzozMHB4IDAgMTVweH0qID4gYm9keXtiYWNrZ3JvdW5kOnVybCgvL3d3dy5nb29nbGUuY29tL2ltYWdlcy9lcnJvcnMvcm9ib3QucG5nKSAxMDAlIDVweCBuby1yZXBlYXQ7cGFkZGluZy1yaWdodDoyMDVweH1we21hcmdpbjoxMXB4IDAgMjJweDtvdmVyZmxvdzpoaWRkZW59aW5ze2NvbG9yOiM3Nzc7dGV4dC1kZWNvcmF0aW9uOm5vbmV9YSBpbWd7Ym9yZGVyOjB9QG1lZGlhIHNjcmVlbiBhbmQgKG1heC13aWR0aDo3NzJweCl7Ym9keXtiYWNrZ3JvdW5kOm5vbmU7bWFyZ2luLXRvcDowO21heC13aWR0aDpub25lO3BhZGRpbmctcmlnaHQ6MH19I2xvZ297YmFja2dyb3VuZDp1cmwoLy93d3cuZ29vZ2xlLmNvbS9pbWFnZXMvbG9nb3MvZXJyb3JwYWdlL2Vycm9yX2xvZ28tMTUweDU0LnBuZykgbm8tcmVwZWF0O21hcmdpbi1sZWZ0Oi01cHh9QG1lZGlhIG9ubHkgc2NyZWVuIGFuZCAobWluLXJlc29sdXRpb246MTkyZHBpKXsjbG9nb3tiYWNrZ3JvdW5kOnVybCgvL3d3dy5nb29nbGUuY29tL2ltYWdlcy9sb2dvcy9lcnJvcnBhZ2UvZXJyb3JfbG9nby0xNTB4NTQtMngucG5nKSBuby1yZXBlYXQgMCUgMCUvMTAwJSAxMDAlOy1tb3otYm9yZGVyLWltYWdlOnVybCgvL3d3dy5nb29nbGUuY29tL2ltYWdlcy9sb2dvcy9lcnJvcnBhZ2UvZXJyb3JfbG9nby0xNTB4NTQtMngucG5nKSAwfX1AbWVkaWEgb25seSBzY3JlZW4gYW5kICgtd2Via2l0LW1pbi1kZXZpY2UtcGl4ZWwtcmF0aW86Mil7I2xvZ297YmFja2dyb3VuZDp1cmwoLy93d3cuZ29vZ2xlLmNvbS9pbWFnZXMvbG9nb3MvZXJyb3JwYWdlL2Vycm9yX2xvZ28tMTUweDU0LTJ4LnBuZykgbm8tcmVwZWF0Oy13ZWJraXQtYmFja2dyb3VuZC1zaXplOjEwMCUgMTAwJX19I2xvZ297ZGlzcGxheTppbmxpbmUtYmxvY2s7aGVpZ2h0OjU0cHg7d2lkdGg6MTUwcHh9CiAgPC9zdHlsZT4KICA8YSBocmVmPS8vd3d3Lmdvb2dsZS5jb20vPjxzcGFuIGlkPWxvZ28gYXJpYS1sYWJlbD1Hb29nbGU+PC9zcGFuPjwvYT4KICA8cD48Yj41MDAuPC9iPiA8aW5zPlRoYXTigJlzIGFuIGVycm9yLjwvaW5zPgogIDxwPiAgPGlucz5UaGF04oCZcyBhbGwgd2Uga25vdy48L2lucz4K",
              "ok": false,
              "headers": [
                [
                  "content-length",
                  "1461"
                ],
                [
                  "content-type",
                  "text/html; charset=utf-8"
                ]
              ],
              "status": 500,
              "status_text": "Internal Server Error"
            }
          },
          "base_uri": "https://localhost:8080/",
          "height": 451
        }
      },
      "source": [
        "# upload external file before import\n",
        "from google.colab import files\n",
        "\n",
        "torch.save(net.state_dict(), 'checkpoint.pth')\n",
        "\n",
        "# download checkpoint file\n",
        "files.download('checkpoint.pth')"
      ],
      "execution_count": 0,
      "outputs": [
        {
          "output_type": "stream",
          "text": [
            "----------------------------------------\n",
            "Exception happened during processing of request from ('::ffff:127.0.0.1', 44274, 0, 0)\n",
            "Traceback (most recent call last):\n",
            "  File \"/usr/lib/python3.6/socketserver.py\", line 317, in _handle_request_noblock\n",
            "    self.process_request(request, client_address)\n",
            "  File \"/usr/lib/python3.6/socketserver.py\", line 348, in process_request\n",
            "    self.finish_request(request, client_address)\n",
            "  File \"/usr/lib/python3.6/socketserver.py\", line 361, in finish_request\n",
            "    self.RequestHandlerClass(request, client_address, self)\n",
            "  File \"/usr/lib/python3.6/socketserver.py\", line 721, in __init__\n",
            "    self.handle()\n",
            "  File \"/usr/lib/python3.6/http/server.py\", line 418, in handle\n",
            "    self.handle_one_request()\n",
            "  File \"/usr/lib/python3.6/http/server.py\", line 406, in handle_one_request\n",
            "    method()\n",
            "  File \"/usr/lib/python3.6/http/server.py\", line 639, in do_GET\n",
            "    self.copyfile(f, self.wfile)\n",
            "  File \"/usr/lib/python3.6/http/server.py\", line 800, in copyfile\n",
            "    shutil.copyfileobj(source, outputfile)\n",
            "  File \"/usr/lib/python3.6/shutil.py\", line 82, in copyfileobj\n",
            "    fdst.write(buf)\n",
            "  File \"/usr/lib/python3.6/socketserver.py\", line 800, in write\n",
            "    self._sock.sendall(b)\n",
            "ConnectionResetError: [Errno 104] Connection reset by peer\n",
            "----------------------------------------\n"
          ],
          "name": "stderr"
        }
      ]
    },
    {
      "cell_type": "code",
      "metadata": {
        "id": "3BzcaL1q9d9e",
        "colab_type": "code",
        "colab": {}
      },
      "source": [
        ""
      ],
      "execution_count": 0,
      "outputs": []
    }
  ]
}